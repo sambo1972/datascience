{
 "cells": [
  {
   "cell_type": "code",
   "execution_count": 1,
   "metadata": {
    "collapsed": true
   },
   "outputs": [],
   "source": [
    "import pandas as pd\n",
    "import datetime"
   ]
  },
  {
   "cell_type": "code",
   "execution_count": 2,
   "metadata": {},
   "outputs": [
    {
     "data": {
      "text/html": [
       "<div>\n",
       "<style>\n",
       "    .dataframe thead tr:only-child th {\n",
       "        text-align: right;\n",
       "    }\n",
       "\n",
       "    .dataframe thead th {\n",
       "        text-align: left;\n",
       "    }\n",
       "\n",
       "    .dataframe tbody tr th {\n",
       "        vertical-align: top;\n",
       "    }\n",
       "</style>\n",
       "<table border=\"1\" class=\"dataframe\">\n",
       "  <thead>\n",
       "    <tr style=\"text-align: right;\">\n",
       "      <th></th>\n",
       "      <th>x</th>\n",
       "      <th>y</th>\n",
       "    </tr>\n",
       "  </thead>\n",
       "  <tbody>\n",
       "    <tr>\n",
       "      <th>0</th>\n",
       "      <td>6.721717</td>\n",
       "      <td>127.062636</td>\n",
       "    </tr>\n",
       "    <tr>\n",
       "      <th>1</th>\n",
       "      <td>6.574377</td>\n",
       "      <td>118.477561</td>\n",
       "    </tr>\n",
       "    <tr>\n",
       "      <th>2</th>\n",
       "      <td>3.462188</td>\n",
       "      <td>30.349628</td>\n",
       "    </tr>\n",
       "    <tr>\n",
       "      <th>3</th>\n",
       "      <td>4.730927</td>\n",
       "      <td>75.397641</td>\n",
       "    </tr>\n",
       "    <tr>\n",
       "      <th>4</th>\n",
       "      <td>4.448219</td>\n",
       "      <td>60.288103</td>\n",
       "    </tr>\n",
       "  </tbody>\n",
       "</table>\n",
       "</div>"
      ],
      "text/plain": [
       "          x           y\n",
       "0  6.721717  127.062636\n",
       "1  6.574377  118.477561\n",
       "2  3.462188   30.349628\n",
       "3  4.730927   75.397641\n",
       "4  4.448219   60.288103"
      ]
     },
     "execution_count": 2,
     "metadata": {},
     "output_type": "execute_result"
    }
   ],
   "source": [
    "ds = pd.read_csv('data/data.tsv', sep='\\t')\n",
    "ds.head()"
   ]
  },
  {
   "cell_type": "code",
   "execution_count": 3,
   "metadata": {},
   "outputs": [
    {
     "data": {
      "text/html": [
       "<div>\n",
       "<style>\n",
       "    .dataframe thead tr:only-child th {\n",
       "        text-align: right;\n",
       "    }\n",
       "\n",
       "    .dataframe thead th {\n",
       "        text-align: left;\n",
       "    }\n",
       "\n",
       "    .dataframe tbody tr th {\n",
       "        vertical-align: top;\n",
       "    }\n",
       "</style>\n",
       "<table border=\"1\" class=\"dataframe\">\n",
       "  <thead>\n",
       "    <tr style=\"text-align: right;\">\n",
       "      <th></th>\n",
       "      <th>x</th>\n",
       "      <th>y</th>\n",
       "      <th>age</th>\n",
       "      <th>etl_timestamp</th>\n",
       "      <th>name</th>\n",
       "    </tr>\n",
       "  </thead>\n",
       "  <tbody>\n",
       "    <tr>\n",
       "      <th>0</th>\n",
       "      <td>6.721717</td>\n",
       "      <td>127.062636</td>\n",
       "      <td>87</td>\n",
       "      <td>2017-12-30 06:36:10.639664</td>\n",
       "      <td>Dijkstra</td>\n",
       "    </tr>\n",
       "    <tr>\n",
       "      <th>1</th>\n",
       "      <td>6.574377</td>\n",
       "      <td>118.477561</td>\n",
       "      <td>87</td>\n",
       "      <td>2017-12-30 06:36:10.639664</td>\n",
       "      <td>Dijkstra</td>\n",
       "    </tr>\n",
       "    <tr>\n",
       "      <th>2</th>\n",
       "      <td>3.462188</td>\n",
       "      <td>30.349628</td>\n",
       "      <td>87</td>\n",
       "      <td>2017-12-30 06:36:10.639664</td>\n",
       "      <td>Dijkstra</td>\n",
       "    </tr>\n",
       "    <tr>\n",
       "      <th>3</th>\n",
       "      <td>4.730927</td>\n",
       "      <td>75.397641</td>\n",
       "      <td>87</td>\n",
       "      <td>2017-12-30 06:36:10.639664</td>\n",
       "      <td>Dijkstra</td>\n",
       "    </tr>\n",
       "    <tr>\n",
       "      <th>4</th>\n",
       "      <td>4.448219</td>\n",
       "      <td>60.288103</td>\n",
       "      <td>87</td>\n",
       "      <td>2017-12-30 06:36:10.639664</td>\n",
       "      <td>Dijkstra</td>\n",
       "    </tr>\n",
       "  </tbody>\n",
       "</table>\n",
       "</div>"
      ],
      "text/plain": [
       "          x           y  age              etl_timestamp      name\n",
       "0  6.721717  127.062636   87 2017-12-30 06:36:10.639664  Dijkstra\n",
       "1  6.574377  118.477561   87 2017-12-30 06:36:10.639664  Dijkstra\n",
       "2  3.462188   30.349628   87 2017-12-30 06:36:10.639664  Dijkstra\n",
       "3  4.730927   75.397641   87 2017-12-30 06:36:10.639664  Dijkstra\n",
       "4  4.448219   60.288103   87 2017-12-30 06:36:10.639664  Dijkstra"
      ]
     },
     "execution_count": 3,
     "metadata": {},
     "output_type": "execute_result"
    }
   ],
   "source": [
    "ds = ds.assign(name='Dijkstra', age=87, etl_timestamp=datetime.datetime.utcnow())\n",
    "ds.head()"
   ]
  }
 ],
 "metadata": {
  "kernelspec": {
   "display_name": "Python 3",
   "language": "python",
   "name": "python3"
  },
  "language_info": {
   "codemirror_mode": {
    "name": "ipython",
    "version": 3
   },
   "file_extension": ".py",
   "mimetype": "text/x-python",
   "name": "python",
   "nbconvert_exporter": "python",
   "pygments_lexer": "ipython3",
   "version": "3.5.4"
  }
 },
 "nbformat": 4,
 "nbformat_minor": 2
}
